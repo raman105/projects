{
 "cells": [
  {
   "cell_type": "code",
   "execution_count": 1,
   "id": "ea50fcf1",
   "metadata": {},
   "outputs": [],
   "source": [
    "import pandas as pd\n",
    "import numpy as np\n",
    "\n",
    "import seaborn as sns\n",
    "from matplotlib import pyplot as plt\n",
    "%matplotlib inline"
   ]
  },
  {
   "cell_type": "code",
   "execution_count": 2,
   "id": "925befd3",
   "metadata": {},
   "outputs": [],
   "source": [
    "from sklearn.model_selection import train_test_split\n",
    "from sklearn.feature_extraction import DictVectorizer"
   ]
  },
  {
   "cell_type": "code",
   "execution_count": 3,
   "id": "a07be4e9",
   "metadata": {},
   "outputs": [],
   "source": [
    "from sklearn.linear_model import LogisticRegression\n",
    "from sklearn.svm import SVC\n",
    "from sklearn.neighbors import KNeighborsClassifier\n",
    "from sklearn.tree import DecisionTreeClassifier\n",
    "from sklearn.ensemble import RandomForestClassifier\n",
    "from sklearn.naive_bayes import GaussianNB\n",
    "from xgboost import XGBClassifier\n",
    "\n",
    "\n",
    "#Import metric for performance evaluation\n",
    "from sklearn.metrics import accuracy_score, precision_score, recall_score, f1_score"
   ]
  },
  {
   "cell_type": "code",
   "execution_count": 4,
   "id": "643f3490",
   "metadata": {},
   "outputs": [],
   "source": [
    "# Scoring functions\n",
    "from sklearn.metrics import accuracy_score\n",
    "from sklearn.metrics import classification_report\n",
    "from sklearn.metrics import roc_auc_score\n",
    "from sklearn.metrics import roc_curve"
   ]
  },
  {
   "cell_type": "code",
   "execution_count": 5,
   "id": "64d8b1f4",
   "metadata": {},
   "outputs": [],
   "source": [
    "df = pd.read_csv('Telco-Customer-Churn.csv')\n",
    "\n",
    "df['TotalCharges'] = pd.to_numeric(df['TotalCharges'], errors='coerce')\n",
    "df['TotalCharges'] = df['TotalCharges'].fillna(0)\n",
    "\n",
    "df.columns = df.columns.str.lower().str.replace(' ', '_')\n",
    "\n",
    "string_columns = list(df.dtypes[df.dtypes == 'object'].index)\n",
    "\n",
    "for col in string_columns:\n",
    "    df[col] = df[col].str.lower().str.replace(' ', '_')\n",
    "\n",
    "df.churn = (df.churn == 'yes').astype(int)"
   ]
  },
  {
   "cell_type": "code",
   "execution_count": 6,
   "id": "2b1b839d",
   "metadata": {},
   "outputs": [],
   "source": [
    "df_train_full, df_test = train_test_split(df, test_size=0.2, random_state=1)\n",
    "df_train, df_val = train_test_split(df_train_full, test_size=0.33, random_state=11)\n",
    "\n",
    "y_train = df_train.churn.values\n",
    "y_val = df_val.churn.values\n",
    "\n",
    "del df_train['churn']\n",
    "del df_val['churn']"
   ]
  },
  {
   "cell_type": "code",
   "execution_count": 7,
   "id": "ee89cf6f",
   "metadata": {},
   "outputs": [],
   "source": [
    "categorical = ['gender', 'seniorcitizen', 'partner', 'dependents',\n",
    "               'phoneservice', 'multiplelines', 'internetservice',\n",
    "               'onlinesecurity', 'onlinebackup', 'deviceprotection',\n",
    "               'techsupport', 'streamingtv', 'streamingmovies',\n",
    "               'contract', 'paperlessbilling', 'paymentmethod']\n",
    "numerical = ['tenure', 'monthlycharges', 'totalcharges']\n"
   ]
  },
  {
   "cell_type": "code",
   "execution_count": 8,
   "id": "4671bff2",
   "metadata": {},
   "outputs": [],
   "source": [
    "train_dict = df_train[categorical + numerical].to_dict(orient='records')\n",
    "\n",
    "dv = DictVectorizer(sparse=False)\n",
    "dv.fit(train_dict)\n",
    "\n",
    "X_train = dv.transform(train_dict)"
   ]
  },
  {
   "cell_type": "code",
   "execution_count": 9,
   "id": "c141c3f6",
   "metadata": {},
   "outputs": [],
   "source": [
    "## Logistic regression\n",
    "log = LogisticRegression(solver='liblinear', random_state=1)\n",
    "svc = SVC(kernel='sigmoid',gamma=1.0)\n",
    "dtc= DecisionTreeClassifier(max_depth=5)\n",
    "knc=KNeighborsClassifier()\n",
    "rfc= RandomForestClassifier(n_estimators=100,max_depth=5,random_state=2)\n",
    "xgb=XGBClassifier(n_estimators=100, max_depth=5, learning_rate=1, objective='binary:logistic')\n"
   ]
  },
  {
   "cell_type": "code",
   "execution_count": 10,
   "id": "33989e6d",
   "metadata": {},
   "outputs": [],
   "source": [
    "clfs=  {\n",
    "    'SVC':svc,\n",
    "    'KNN':knc,\n",
    "    'Decision Tree': dtc,\n",
    "    'Logistic Regression':log,\n",
    "    'Random Forest':rfc,\n",
    "    'Xgboost':xgb\n",
    "}"
   ]
  },
  {
   "cell_type": "code",
   "execution_count": 11,
   "id": "a14ce7c2",
   "metadata": {},
   "outputs": [],
   "source": [
    "val_dict = df_val[categorical + numerical].to_dict(orient='records')\n",
    "X_val = dv.transform(val_dict) # for testing input\n",
    "# y_val for testing results"
   ]
  },
  {
   "cell_type": "code",
   "execution_count": 12,
   "id": "df515efa",
   "metadata": {},
   "outputs": [],
   "source": [
    "def train_classifier(clf,X_train,y_train,X_val,y_val):\n",
    "    clf.fit(X_train,y_train)\n",
    "    y_pred = clf.predict(X_val)\n",
    "    accuracy = accuracy_score(y_val,y_pred)\n",
    "    precision =precision_score(y_val,y_pred,zero_division=0)\n",
    "    recall = recall_score(y_val,y_pred)\n",
    "    score = f1_score(y_val,y_pred)\n",
    "\n",
    "    \n",
    "    return accuracy,precision,recall,score\n",
    "    "
   ]
  },
  {
   "cell_type": "code",
   "execution_count": 13,
   "id": "825db322",
   "metadata": {},
   "outputs": [],
   "source": [
    "accuracy_scores=[]\n",
    "\n",
    "for name,clf in clfs.items():\n",
    "    current_accuracy,precision,recall,score =train_classifier(clf,X_train,y_train,X_val,y_val)\n",
    "    \n",
    "    \n",
    "    print(\"for \",name)\n",
    "    print(\"\\t accuracy - \",current_accuracy)\n",
    "    print(\"\\t Precision score - \",precision)\n",
    "    print(\"\\t Recall Score - \",recall)\n",
    "    print(\"\\t f1 score - \",score)\n",
    "\n"
   ]
  }
 ],
 "metadata": {
  "kernelspec": {
   "display_name": "Python 3 (ipykernel)",
   "language": "python",
   "name": "python3"
  },
  "language_info": {
   "codemirror_mode": {
    "name": "ipython",
    "version": 3
   },
   "file_extension": ".py",
   "mimetype": "text/x-python",
   "name": "python",
   "nbconvert_exporter": "python",
   "pygments_lexer": "ipython3",
   "version": "3.11.1"
  }
 },
 "nbformat": 4,
 "nbformat_minor": 5
}
